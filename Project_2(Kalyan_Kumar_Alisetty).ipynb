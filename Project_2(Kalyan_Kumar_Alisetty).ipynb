{
  "nbformat": 4,
  "nbformat_minor": 0,
  "metadata": {
    "kernelspec": {
      "display_name": "Python 3",
      "language": "python",
      "name": "python3"
    },
    "language_info": {
      "codemirror_mode": {
        "name": "ipython",
        "version": 3
      },
      "file_extension": ".py",
      "mimetype": "text/x-python",
      "name": "python",
      "nbconvert_exporter": "python",
      "pygments_lexer": "ipython3",
      "version": "3.7.4"
    },
    "colab": {
      "name": "Project-2(Kalyan Kumar Alisetty).ipynb",
      "provenance": [],
      "collapsed_sections": []
    }
  },
  "cells": [
    {
      "cell_type": "code",
      "metadata": {
        "id": "GUKKFgOSK_CB"
      },
      "source": [
        "# ENTER YOUR NAME AND ID HERE\n",
        "# Name : Kalyan Kumar Alisetty\n",
        "# ID: A20199542"
      ],
      "execution_count": 1,
      "outputs": []
    },
    {
      "cell_type": "markdown",
      "metadata": {
        "id": "1SzVFyTZK_CG"
      },
      "source": [
        "# Project-2: Locality Sensitive Hashing"
      ]
    },
    {
      "cell_type": "code",
      "metadata": {
        "id": "ZwMQSr1YK_CG"
      },
      "source": [
        "#import all the necessary packages required for the program\n",
        "import random\n",
        "import os\n",
        "import numpy as np\n",
        "\n",
        "from random import randrange\n",
        "from shutil import copyfile"
      ],
      "execution_count": 2,
      "outputs": []
    },
    {
      "cell_type": "markdown",
      "metadata": {
        "id": "KYalxI_eK_CI"
      },
      "source": [
        "## Execute the follwing two cells to generate your data sample"
      ]
    },
    {
      "cell_type": "code",
      "metadata": {
        "id": "m8VE0DYsK_CJ"
      },
      "source": [
        "MY_ID = '542'#'ENTER THE LAST 3 DIGITS OF YOUR ID'\n",
        "# MY_ID should be string\n",
        "# Example MY_ID='819'\n",
        "n_1 = 0\n",
        "n_2 = 0\n",
        "n_3 = 0\n",
        "task_dict = {0:'taska',1:'taskb',2:'taskc',3:'taskd',4:'taske'}\n",
        "id_dict = {0:n_1,1:n_2,2:n_3}\n",
        "\n",
        "try:\n",
        "    n_1 = int(MY_ID[-1]) % 5\n",
        "    n_2 = int(MY_ID[-2]) % 5\n",
        "    n_3 = int(MY_ID[-3]) % 5\n",
        "    \n",
        "    while n_1 == n_2 or n_1 == n_3:\n",
        "        n_1 = (n_1 + 1) % 5\n",
        "    \n",
        "    while n_1 == n_2 or n_2 == n_3:\n",
        "        n_2 = (n_2 + 1) % 5\n",
        "        \n",
        "except Exception as e:\n",
        "    print('Please enter a valid ID...')"
      ],
      "execution_count": 3,
      "outputs": []
    },
    {
      "cell_type": "code",
      "metadata": {
        "id": "y4foZEFEf8vL",
        "outputId": "4bbf58a0-e438-4f50-d49d-26a3d07b834e",
        "colab": {
          "base_uri": "https://localhost:8080/",
          "height": 34
        }
      },
      "source": [
        "#This should be used only when running this on google colab\n",
        "from google.colab import drive\n",
        "drive.mount('/content/gdrive')"
      ],
      "execution_count": 4,
      "outputs": [
        {
          "output_type": "stream",
          "text": [
            "Drive already mounted at /content/gdrive; to attempt to forcibly remount, call drive.mount(\"/content/gdrive\", force_remount=True).\n"
          ],
          "name": "stdout"
        }
      ]
    },
    {
      "cell_type": "code",
      "metadata": {
        "id": "6jepE6F_K_CL"
      },
      "source": [
        "data_path = '/content/gdrive/My Drive/CS5683/corpus-20090418' \n",
        "# Edit this path if the data directory is not in the current directory\n",
        "\n",
        "try:\n",
        "    os.makedirs('Data_Sample')\n",
        "    os.makedirs('Original_Sample')\n",
        "except Exception as e:\n",
        "    pass\n",
        "\n",
        "for i in range(3):\n",
        "    task = task_dict[id_dict[i]]\n",
        "    \n",
        "    for file in os.listdir(data_path):\n",
        "        if task in file:\n",
        "            if 'orig' in file:\n",
        "                copyfile(data_path + '/' + file, 'Original_Sample/' + file)\n",
        "            else:\n",
        "                copyfile(data_path + '/' + file, 'Data_Sample/' + file)"
      ],
      "execution_count": 5,
      "outputs": []
    },
    {
      "cell_type": "markdown",
      "metadata": {
        "id": "gAcl8n8ZK_CN"
      },
      "source": [
        "Your dataset for this project will be in <b>Data_Sample</b>\n",
        "\n",
        "\n",
        "Your query choices will be in <b>Original_Sample</b> directory\n",
        "\n",
        "\n",
        "You have to use any one original Wikipedia article from <b>Original_Sample</b> for <b>Fact Check</b> steps"
      ]
    },
    {
      "cell_type": "markdown",
      "metadata": {
        "id": "Lgy-nsm2K_CP"
      },
      "source": [
        "### STEP - 1: Shingling (20 points)"
      ]
    },
    {
      "cell_type": "code",
      "metadata": {
        "id": "dRluPBfTK_CQ"
      },
      "source": [
        "# Type your code here... \n",
        "# Create necessary number of cells below this cell\n",
        "\n",
        "data = {}#to store the data read from the files in the data sample\n",
        "path = '/content/Data_Sample/' #Change this path to reflect your input samples data folder\n",
        "from bs4 import BeautifulSoup\n",
        "for file in os.listdir(path):\n",
        "    with open(os.path.join(path, file), \"rb\") as fname: #for each of the file in the data sample\n",
        "        bytes_ = fname.read()\n",
        "        data[file] = str(BeautifulSoup(bytes_))#each file and its text is stored in the data named dictionary"
      ],
      "execution_count": 6,
      "outputs": []
    },
    {
      "cell_type": "code",
      "metadata": {
        "id": "chX_B5fkZiyT"
      },
      "source": [
        "import re\n",
        "for key in data:#for each text in the data dictionary we have cleaned the html parsing and converted into lower case\n",
        "  soup = BeautifulSoup(data[key], \"html.parser\")\n",
        "  data[key] = str(soup).replace(\"<body>\", \"\").replace(\"<html>\", \"\").replace(\"</html>\", \"\").replace(\"</body>\", \"\").replace(\"<p>\", \"\").replace(\"</p>\", \"\").lower()\n",
        "  data[key] = re.sub(\"[^\\w]\", \" \", data[key]).split()#we have split the text into words"
      ],
      "execution_count": 7,
      "outputs": []
    },
    {
      "cell_type": "markdown",
      "metadata": {
        "id": "7agW28G5K_CV"
      },
      "source": [
        "Report results (number of unique k-shingles) for k={3,4,5} below:\n",
        "1. k=3:\n",
        "2. k=4:\n",
        "3. k=5:"
      ]
    },
    {
      "cell_type": "code",
      "metadata": {
        "id": "jU7pj9EPaJRL",
        "outputId": "1b4733d1-2cbb-45e8-b486-acb269fc73ee",
        "colab": {
          "base_uri": "https://localhost:8080/",
          "height": 34
        }
      },
      "source": [
        "k = 3\n",
        "docsAsShingleSets = {}#To store the k-singles and corresponding filename\n",
        "docNames = []#To store the filename in the order they have been read\n",
        "\n",
        "for i in data:#for each of the element in the data dictionary\n",
        "    words = data[i]\n",
        "    docNames.append(i)\n",
        "    shinglesInDocWords = set()\n",
        "    shinglesInDocInts = set()\n",
        "    shingle = []#to store the generated k-shingle from the word of the text of data dictionary\n",
        "    for index in range(len(words) - k + 1):\n",
        "        shingle = words[index:index + k]\n",
        "        shingle = ' '.join(shingle)\n",
        "        if shingle not in shinglesInDocWords:\n",
        "            shinglesInDocWords.add(shingle)#Its adding the generated shingle into a set\n",
        "        else:\n",
        "            del shingle\n",
        "\n",
        "    docsAsShingleSets[i] = shinglesInDocWords#Here it store the document name and its corresponding shingles generated\n",
        "shinglesAllDocs = []#To combines all the k-shingles formed\n",
        "for a in docsAsShingleSets:\n",
        "  shinglesAllDocs = shinglesAllDocs + list(docsAsShingleSets[a])\n",
        "unique_shinglesAllDocs = list(set(shinglesAllDocs))#To take only unique k-shingles from the list\n",
        "print('Number of shingles in datasample for k = 3 is ' + str(len(unique_shinglesAllDocs)))#This print the number of k-shingles formed"
      ],
      "execution_count": 8,
      "outputs": [
        {
          "output_type": "stream",
          "text": [
            "Number of shingles in datasample for k = 3 is 3061\n"
          ],
          "name": "stdout"
        }
      ]
    },
    {
      "cell_type": "code",
      "metadata": {
        "id": "YXQQ9o5LmvtX",
        "outputId": "f6f0bc0b-55e4-4707-8d31-6c84001bd7f9",
        "colab": {
          "base_uri": "https://localhost:8080/",
          "height": 34
        }
      },
      "source": [
        "k=4 #The same process as the above cell is repeated here for k=4\n",
        "docsAsShingleSets = {}\n",
        "docNames = []\n",
        "\n",
        "for i in data:\n",
        "    words = data[i]\n",
        "    docNames.append(i)\n",
        "    shinglesInDocWords = set()\n",
        "    shinglesInDocInts = set()\n",
        "    shingle = []\n",
        "    for index in range(len(words) - k + 1):\n",
        "        shingle = words[index:index + k]\n",
        "        shingle = ' '.join(shingle)\n",
        "        if shingle not in shinglesInDocWords:\n",
        "            shinglesInDocWords.add(shingle)\n",
        "        else:\n",
        "            del shingle\n",
        "\n",
        "    # Store the completed list of hashed shingles for this document in the dictionary.\n",
        "    docsAsShingleSets[i] = shinglesInDocWords\n",
        "shinglesAllDocs = []\n",
        "for a in docsAsShingleSets:\n",
        "  shinglesAllDocs = shinglesAllDocs + list(docsAsShingleSets[a])\n",
        "unique_shinglesAllDocs = list(set(shinglesAllDocs))\n",
        "print('Number of shingles in datasample for k = 4 is ' + str(len(unique_shinglesAllDocs)))"
      ],
      "execution_count": 9,
      "outputs": [
        {
          "output_type": "stream",
          "text": [
            "Number of shingles in datasample for k = 4 is 3318\n"
          ],
          "name": "stdout"
        }
      ]
    },
    {
      "cell_type": "code",
      "metadata": {
        "id": "YvkhwZC9ntHV",
        "outputId": "c1b751e9-646e-44f7-9172-d72d3430ee5b",
        "colab": {
          "base_uri": "https://localhost:8080/",
          "height": 34
        }
      },
      "source": [
        "k=5 #The same process as the above cell is repeated here for k=5\n",
        "docsAsShingleSets = {}\n",
        "docNames = []\n",
        "\n",
        "for i in data:\n",
        "    words = data[i]\n",
        "    docNames.append(i)\n",
        "    shinglesInDocWords = set()\n",
        "    shinglesInDocInts = set()\n",
        "    shingle = []\n",
        "    for index in range(len(words) - k + 1):\n",
        "        shingle = words[index:index + k]\n",
        "        shingle = ' '.join(shingle)\n",
        "        if shingle not in shinglesInDocWords:\n",
        "            shinglesInDocWords.add(shingle)\n",
        "        else:\n",
        "            del shingle\n",
        "\n",
        "    # Store the completed list of hashed shingles for this document in the dictionary.\n",
        "    docsAsShingleSets[i] = shinglesInDocWords\n",
        "shinglesAllDocs = []\n",
        "for a in docsAsShingleSets:\n",
        "  shinglesAllDocs = shinglesAllDocs + list(docsAsShingleSets[a])\n",
        "unique_shinglesAllDocs = list(set(shinglesAllDocs))\n",
        "print('Number of shingles in datasample for k = 5 is ' + str(len(unique_shinglesAllDocs)))"
      ],
      "execution_count": 10,
      "outputs": [
        {
          "output_type": "stream",
          "text": [
            "Number of shingles in datasample for k = 5 is 3425\n"
          ],
          "name": "stdout"
        }
      ]
    },
    {
      "cell_type": "code",
      "metadata": {
        "id": "TNPvDzlNvlfR",
        "outputId": "8ab409b6-56cd-46c1-afaa-5220e69adf3a",
        "colab": {
          "base_uri": "https://localhost:8080/",
          "height": 1000
        }
      },
      "source": [
        "unique_shinglesAllDocs#This gives all the five shingles in the input datasample if you run all the above cells"
      ],
      "execution_count": 11,
      "outputs": [
        {
          "output_type": "execute_result",
          "data": {
            "text/plain": [
              "['kind of building similarly an',\n",
              " 'layers where if visualised would',\n",
              " 'from the base class we',\n",
              " 'but it is not possible',\n",
              " 'of existing class code in',\n",
              " 'means of generalization in what',\n",
              " 'to an object of one',\n",
              " 'may lead to the yo',\n",
              " 'virtual object variable can store',\n",
              " 'called polymorphism where many sections',\n",
              " 'superclass if this occurs then',\n",
              " 'student could both be said',\n",
              " 'objects which already exist inheritance',\n",
              " 'classes to be reused the',\n",
              " 'subclasses are said to extend',\n",
              " 'both be a subclass and',\n",
              " 'sub divided into more groups',\n",
              " 'of classes and objects as',\n",
              " 'cow is a generalization of',\n",
              " 'functions or data variables in',\n",
              " 'provides a public setcolour method',\n",
              " 'or inherit the properties of',\n",
              " 'all living things the animals',\n",
              " 'formed using classes which have',\n",
              " 'in inheritance inheritance was firstly',\n",
              " 'about each specific entity only',\n",
              " 'of a program since modules',\n",
              " 'add additional forms of transport',\n",
              " 'data static the inheritance hierarchy',\n",
              " 'or that bridges and skyscrapers',\n",
              " 'the subclass public class shape',\n",
              " 'inheritance and multiple inheritance single',\n",
              " 'look at inheritance is as',\n",
              " 'to modify since they do',\n",
              " 'sometimes referred to as ancestor',\n",
              " 'subclasses inherit all of the',\n",
              " 'similar interfaces the advantage that',\n",
              " 'classes inherit attributes and behaviour',\n",
              " 'of objects for instance a',\n",
              " 'lot of code which consequently',\n",
              " 'well known term used for',\n",
              " 'base classes with little or',\n",
              " 'properties for example the external',\n",
              " 'be known as the subclass',\n",
              " 'fruit i e an apple',\n",
              " 'the easiest way to look',\n",
              " 'learning by means of generalization',\n",
              " 'student classes would inherit methods',\n",
              " 'as a powerful feature it',\n",
              " 'subclass public class shape private',\n",
              " 'parent class whereas postgraduate would',\n",
              " 'new classes using classes that',\n",
              " 'class the subclass is a',\n",
              " 'office block will inherit certain',\n",
              " 'new object with different properties',\n",
              " 'the child class has all',\n",
              " 'offices however these personal characteristics',\n",
              " 'all the properties common to',\n",
              " 'students similarly we could say',\n",
              " 'similarly we could say that',\n",
              " 'for direct manipulation by the',\n",
              " 'the way humans catagorize it',\n",
              " 'apply to all types of',\n",
              " 'share lots of code due',\n",
              " 'be stored generlisation also some',\n",
              " 'to the formation of new',\n",
              " 'objects internal structure of an',\n",
              " 'areas less information need to',\n",
              " 'which is where many pieces',\n",
              " 'ancestor inheritance has a variety',\n",
              " 'share e g passenger capacity',\n",
              " 'of code are controled by',\n",
              " 'oriented programming languages which is',\n",
              " 'of the parent class inheritance',\n",
              " 'whilst still allowing the methods',\n",
              " 'for example a house is',\n",
              " 'basically formulated for simula in',\n",
              " 'can store a reference to',\n",
              " 'programming languages which is a',\n",
              " 'two subclasses called fulltime and',\n",
              " 'any private methods or variables',\n",
              " 'however object variables cannot store',\n",
              " 'complexity of a program since',\n",
              " 'to a more generalised class',\n",
              " 'an office block will have',\n",
              " 'known to have a further',\n",
              " 'be the more general root',\n",
              " 'can be sub divided into',\n",
              " 'classes that have already been',\n",
              " 'go into more detail this',\n",
              " 'that modules with sufficiently similar',\n",
              " 'only extend one class e',\n",
              " 'each other but related via',\n",
              " 'categorization where generalization if the',\n",
              " 'however animals cannot be treated',\n",
              " 'the student class inheritance can',\n",
              " 'orange mango and many others',\n",
              " 'which consequently reduces the complexity',\n",
              " 'default protected and public attributes',\n",
              " 'entities is applied to a',\n",
              " 'except java lang object can',\n",
              " 'object is made to inherit',\n",
              " 'the use of visibility modifiers',\n",
              " 'all living things which have',\n",
              " 'in computer languages categorization is',\n",
              " 'at instantiation when the object',\n",
              " 'similarities in interfaces would be',\n",
              " 'occurs then all of the',\n",
              " 'class groups together objects of',\n",
              " 'the attributes and methods of',\n",
              " 'object oriented programming in which',\n",
              " 'the same code thus reducing',\n",
              " 'generalization and cognitive economy inheritance',\n",
              " 'more non fiction splits the',\n",
              " 'the subclass or child class',\n",
              " 'which describes many parts of',\n",
              " 'relationship can be visualised as',\n",
              " 'we can also say there',\n",
              " 'oriented programming it s objective',\n",
              " 'basic support provided by inheritance',\n",
              " 'inheritance is a concept in',\n",
              " 'relation can be established and',\n",
              " 'original classes are either called',\n",
              " 'called objects and involve using',\n",
              " 'new object is made to',\n",
              " 's superclass data static the',\n",
              " 'are fruit they may naturally',\n",
              " 'view called polymorphism where many',\n",
              " 'newradius in this example the',\n",
              " 'when a new object with',\n",
              " 'private variable colour as defined',\n",
              " 'already defined certain restrictions not',\n",
              " 'methods and variables this means',\n",
              " 'new classes that add extra',\n",
              " 'superclass visibility whenever client code',\n",
              " 'on access level modifiers for',\n",
              " 'of classes in such an',\n",
              " 'of inheritance was basically formulated',\n",
              " 'kinds of postgraduate student this',\n",
              " 'allows us to define attributes',\n",
              " 'furthermore it is fundamental for',\n",
              " 'of the existing classes which',\n",
              " 'into two categories fiction and',\n",
              " 'example of inheritance we have',\n",
              " 'can instead shair the same',\n",
              " 'cognitive economy inheritance is occasionally',\n",
              " 'class all the public variables',\n",
              " 'functions that are common between',\n",
              " 'in direction y likewise you',\n",
              " 'wanted to add additional forms',\n",
              " 'new classes are called derived',\n",
              " 'as defined in the shape',\n",
              " 'as base classes or ancestor',\n",
              " 'a current position methods utilising',\n",
              " 'new position of a train',\n",
              " 'means of generalization and cognitive',\n",
              " 'extends the transport class under',\n",
              " 'with the already existing classes',\n",
              " 'methods and classes are added',\n",
              " 'phd student as both these',\n",
              " 'referred to as generalization due',\n",
              " 'such as an aeroplane you',\n",
              " 'kinds of student this kind',\n",
              " 'to be easier to modify',\n",
              " 'class but it is not',\n",
              " 'already been defined inheritance is',\n",
              " 'parent class inheritance is useful',\n",
              " 'direction y likewise you might',\n",
              " 'we can have modules with',\n",
              " 'we can understand this mechanism',\n",
              " 'because it renders unnecessary a',\n",
              " 'this means that the new',\n",
              " 'to the yo yo problem',\n",
              " 'fruit they may naturally inherit',\n",
              " 'animals have their unique attributes',\n",
              " 'object oriented programming where the',\n",
              " 'have modules with similar interfaces',\n",
              " 'i e less specialised version',\n",
              " 'object oriented programming it s',\n",
              " 'in the definition of the',\n",
              " 'class specialises the shape class',\n",
              " 'the base class we can',\n",
              " 'seed of a plant an',\n",
              " 'of inheritance in object oriented',\n",
              " 'superclasses attributes variables and behaviours',\n",
              " 'the existing classes which are',\n",
              " 'example private attributes and methods',\n",
              " 'course can be sub divided',\n",
              " 'reduces the complexity of the',\n",
              " 'as they will have additional',\n",
              " 'also offers support for representation',\n",
              " 'orange mango apples and many',\n",
              " 'can have modules with similar',\n",
              " 'of objects of several classes',\n",
              " 'of apple orange mango and',\n",
              " 'in which objects acquire or',\n",
              " 'living things which have attributes',\n",
              " 'larger tree structure for example',\n",
              " 'are specific types and specialise',\n",
              " 'programming where a child or',\n",
              " 'of inheritance is that classes',\n",
              " 'the basic idea is to',\n",
              " 'known about specific entities is',\n",
              " 'living things however animals cannot',\n",
              " 'modification inheritance is also sometimes',\n",
              " 'also creating class specific methods',\n",
              " 'version of the original class',\n",
              " 'of inheritance therefore inheritance can',\n",
              " 'an important feature in object',\n",
              " 'classes with the already existing',\n",
              " 'many others one can consider',\n",
              " 'occur on several layers where',\n",
              " 'which is used to subclass',\n",
              " 'time known as inheritance the',\n",
              " 'a program could exist to',\n",
              " 'to achieve this the programmer',\n",
              " 'refers to the formation of',\n",
              " 'are being controlled by some',\n",
              " 'newcolour colour newcolour public class',\n",
              " 'they will have additional characteristics',\n",
              " 'an inheritance tree you get',\n",
              " 'possible that child class has',\n",
              " 'both kinds of student this',\n",
              " 'in object oriented programming languages',\n",
              " 'or by adding new methods',\n",
              " 'sections of code are being',\n",
              " 'reuse existing code with little',\n",
              " 'object of the type car',\n",
              " 'and cognitive economy is called',\n",
              " 'extended classes to it called',\n",
              " 'is used to subclass another',\n",
              " 'it also offers support for',\n",
              " 'and a train may not',\n",
              " 'plants viruses and fungi that',\n",
              " 'viruses and fungi that are',\n",
              " 'with sufficiently similar interfaces can',\n",
              " 'a powerful way number of',\n",
              " 'classes with the child classes',\n",
              " 'student this kind of relationship',\n",
              " 'not need to be changed',\n",
              " 'control code inheritance can be',\n",
              " 'all types of buildings in',\n",
              " 'on the other hand cognitive',\n",
              " 'of string instrument electric acoustic',\n",
              " 'called msc student and phd',\n",
              " 'still private also it should',\n",
              " 'to create new classes that',\n",
              " 'was invented in 1967 for',\n",
              " 'the advantage of reducing the',\n",
              " 'of objects a fruit for',\n",
              " 'controlled through the use of',\n",
              " 'group provided that belongs relation',\n",
              " 'further down an inheritance tree',\n",
              " 'crucial to human learning by',\n",
              " 'of which are desirable singleness',\n",
              " 'and car subclasses are said',\n",
              " 'at the same time subclasses',\n",
              " 'lead to the yo yo',\n",
              " 'that extend previous classes and',\n",
              " 'where a new class is',\n",
              " 'allows for inheritance from several',\n",
              " 'different properties for example the',\n",
              " 'formed by this process whose',\n",
              " 'of relationship between entities or',\n",
              " 'subclass is a more specialised',\n",
              " 'the new classes known as',\n",
              " 'of this it means that',\n",
              " 'be made that extend previous',\n",
              " 'for an object of the',\n",
              " 'been defined inheritance is also',\n",
              " 'inherited or derived classes inherit',\n",
              " 'are implicitly virtual object variable',\n",
              " 'behaviours functions that are common',\n",
              " 'code are being controlled by',\n",
              " 'can be known as one',\n",
              " 'and behaviours that are defined',\n",
              " 'code due to this inheritance',\n",
              " 'focuses on different properties for',\n",
              " 'genetic characteristics from its parents',\n",
              " 'methods utilising this data can',\n",
              " 'which means that setradius is',\n",
              " 'we have the class of',\n",
              " 'invented in 1967 for simula',\n",
              " 'its ancestor or by adding',\n",
              " 'to the way humans catagorize',\n",
              " 'takes its name from genetic',\n",
              " 'be considered that fruit is',\n",
              " 'likewise you might want to',\n",
              " 'to one superclass however a',\n",
              " 'to extend or specialise their',\n",
              " 'could have a method which',\n",
              " 'fungi in object oriented programming',\n",
              " 'student this would mean that',\n",
              " 'to this child classes can',\n",
              " 'variables from the superclass however',\n",
              " 'the circle class and all',\n",
              " 'renders unnecessary a lot of',\n",
              " 'to as ancestor classes the',\n",
              " 'parent the child class is',\n",
              " 'particularities there are examples where',\n",
              " 'it was intended to allow',\n",
              " 'inheritance has another view called',\n",
              " 'are unique to that class',\n",
              " 'inherited the circle class specialises',\n",
              " 'existing code it is typically',\n",
              " 'a superclass of employee and',\n",
              " 'its parents inheritance at its',\n",
              " 'inheritance therefore can also be',\n",
              " 'defined in the shape class',\n",
              " 'sufficiently similar interfaces can share',\n",
              " 'languages available today most of',\n",
              " 'via the superclass subclasses are',\n",
              " 'allows programmers to model a',\n",
              " 'referenced as one base class',\n",
              " 'an advantage of inheritance is',\n",
              " 'situations where several classes share',\n",
              " 'are each distinctive from each',\n",
              " 'more generalised class representing all',\n",
              " 'this relationship student would be',\n",
              " 'that it makes such modules',\n",
              " 'y likewise you might want',\n",
              " 'consider fruit to be an',\n",
              " 'class is a kind of',\n",
              " 'to the circle class and',\n",
              " 'no modification inheritance provides the',\n",
              " 'knowledge of specific entities and',\n",
              " 'means derived a new class',\n",
              " 'orange etc conversely since apples',\n",
              " 'then one subclass and a',\n",
              " 'a wider group provided that',\n",
              " 'will have a speed at',\n",
              " 'ancestor in defining this inheritance',\n",
              " 'be established and cognitive economy',\n",
              " 'all animals the advantage of',\n",
              " 'over or inherit attributes and',\n",
              " 'or software engineering properties of',\n",
              " 'a plant inheritance is typically',\n",
              " 'oriented programming is to minimize',\n",
              " 'processing vital to human learning',\n",
              " 'it the train and car',\n",
              " 'base class inheritance is a',\n",
              " 'class from the base class',\n",
              " 'belongs relation can be created',\n",
              " 'inheritance therefore inheritance can be',\n",
              " 'no modification and are the',\n",
              " 'data structures of objects of',\n",
              " 'can be considered that fruit',\n",
              " 'plant modules with sufficiently similarities',\n",
              " 'language to reuse code without',\n",
              " 'all attributes and methods are',\n",
              " 'code in new classes the',\n",
              " 'office block are both subclasses',\n",
              " 'these uses as it is',\n",
              " 'and they inherit the behaviours',\n",
              " 'similar interfaces can share lots',\n",
              " 'objects a fruit for instance',\n",
              " 'methods from its superclasses each',\n",
              " 'inheritance is an important feature',\n",
              " 'the subclass es then extend',\n",
              " 'class extends the transport class',\n",
              " 'house and office block will',\n",
              " 'need to be stored generlisation',\n",
              " 'already been defined the new',\n",
              " 'the classes from which they',\n",
              " 'defined inheritance is also sometimes',\n",
              " 'an apple is a fruit',\n",
              " 'is not inherited the circle',\n",
              " 'other details whilst full time',\n",
              " 'with sufficiently similarities in interfaces',\n",
              " 'whilst also creating class specific',\n",
              " 'inheritance is that classes which',\n",
              " 'is a core aspect of',\n",
              " 'into more detail this is',\n",
              " 'both the classes from which',\n",
              " 'are examples where we can',\n",
              " 'of student are kinds of',\n",
              " 'building similarly an office block',\n",
              " 'noted that a class can',\n",
              " 'to inherit properties of objects',\n",
              " 'animals cannot be treated as',\n",
              " 'classes can be formed by',\n",
              " 'architecture of classes in such',\n",
              " 'all object oriented languages available',\n",
              " 'by replacing one or more',\n",
              " 'as base classes with little',\n",
              " 'considered that fruit is an',\n",
              " 'specialising and sometimes adding to',\n",
              " 'objects inheritance has the advantage',\n",
              " 'like the romans the elizabethans',\n",
              " 'and phd student as both',\n",
              " 't available to the superclass',\n",
              " 'this replacing act is called',\n",
              " 'classes share common features such',\n",
              " 'time could just have salary',\n",
              " 'superclass because of this it',\n",
              " 'added to specialise the new',\n",
              " 'categorization in computer language also',\n",
              " 'to be an abstraction of',\n",
              " 'characteristics from buildings but also',\n",
              " 'humans learn by means of',\n",
              " 'version of the original or',\n",
              " 'capacity would be a class',\n",
              " 'vital to human learning by',\n",
              " 'address and other details whilst',\n",
              " 'shape however the private variable',\n",
              " 'oriented programming inheritance is a',\n",
              " 'hierarchy of an object is',\n",
              " 'the superclass leaving the subclass',\n",
              " 'it here is an example',\n",
              " 'salary and part time could',\n",
              " 'inherit the properties of objects',\n",
              " 'offers support for representation by',\n",
              " 'radius public void setradius int',\n",
              " 'a more generalised class representing',\n",
              " 'methods on top of those',\n",
              " 'new class is formed using',\n",
              " 'is the ability of a',\n",
              " 'public class shape private color',\n",
              " 'postgraduate and undergraduate would be',\n",
              " 'method which will be available',\n",
              " 'still allowing the methods and',\n",
              " 'variable colour as defined in',\n",
              " 'or no modification at all',\n",
              " 'if such a method was',\n",
              " 'classes which are referred to',\n",
              " 'both will have a speed',\n",
              " 'or a subclass i e',\n",
              " 'variables are still private also',\n",
              " 'properties common to all fruit',\n",
              " 'a car and a train',\n",
              " 'lines of is toilet engaged',\n",
              " 'be referred to as generalization',\n",
              " 'between classes of objects a',\n",
              " 'of new classes with the',\n",
              " 'generalisation and in human learning',\n",
              " 'also inheritance is a useful',\n",
              " 'according to their type structure',\n",
              " 'lots of code due to',\n",
              " 'of object oriented programming and',\n",
              " 'terms of their parent classes',\n",
              " 'have an extended hierarchy where',\n",
              " 'inheritance is the ability to',\n",
              " 'being controlled by some shared',\n",
              " 'specialise the new class inheritance',\n",
              " 'be performed on them inheritance',\n",
              " 'the support for representation by',\n",
              " 'are called derived classes and',\n",
              " 'cooking etc history of course',\n",
              " 'generalize du to the is',\n",
              " 'access level modifiers for example',\n",
              " 'categorized similer to the way',\n",
              " 'of orange mango apples and',\n",
              " 'would be put into the',\n",
              " 'is selected and does not',\n",
              " 'modification inheritance allowes classes to',\n",
              " 'are inherited by the subclasses',\n",
              " 'form or another in most',\n",
              " 'said to belong to a',\n",
              " 'and all subclasses of circle',\n",
              " 'of apple orange etc conversely',\n",
              " 'will have properties of both',\n",
              " 'that can be performed on',\n",
              " 'divided into time periods like',\n",
              " 'the definition of the superclass',\n",
              " 'original or superclass because of',\n",
              " 'is advantageous to differentiate between',\n",
              " 'into time periods like the',\n",
              " 'classes or ancestor classes it',\n",
              " 'of generalization in what is',\n",
              " 'subclasses of shape however the',\n",
              " 'relationships represent a hierarchy between',\n",
              " 'the public variables and methods',\n",
              " 'external behaviour of objects internal',\n",
              " 'methods and variables whilst also',\n",
              " 'private also it should be',\n",
              " 'that the class can only',\n",
              " 'etc and methods walking mating',\n",
              " 'are available to the subclass',\n",
              " 'features inheritance is used for',\n",
              " 'and does not change with',\n",
              " 'derived in 1967 the child',\n",
              " 'more general root node and',\n",
              " 'we could say that dogs',\n",
              " 'the class can only inherit',\n",
              " 'of their parent classes which',\n",
              " 'number of processing information and',\n",
              " 'and undergraduate would be more',\n",
              " 'building both house and office',\n",
              " 'block are both subclasses they',\n",
              " 'house is a kind of',\n",
              " 'and therefore reducing the complexity',\n",
              " 'another this leads to a',\n",
              " 'to extend the transport class',\n",
              " 'of shape however the private',\n",
              " 'graduate student could both be',\n",
              " 'for inheritance from several classes',\n",
              " 'time could work out the',\n",
              " 'for example private attributes and',\n",
              " 'unique to that class inheritance',\n",
              " 'inheart properities commen to all',\n",
              " 'to a wider group given',\n",
              " 'attributes and behaviours which are',\n",
              " 'be books books generally fall',\n",
              " 'hierarchy that is formed is',\n",
              " 'been defined these classes have',\n",
              " 'is a powerful way number',\n",
              " 'such modules share a lot',\n",
              " 'code inheritance is normally achieved',\n",
              " 'are usually talking about a',\n",
              " 'train may have methods along',\n",
              " 'existing code without modification inheritance',\n",
              " 'oriented programming and is available',\n",
              " 'variables whilst also creating class',\n",
              " 'called generalization because there is',\n",
              " 'stringed are all types of',\n",
              " 'would mean that both the',\n",
              " 'both these types of student',\n",
              " 'structure of objects and classes',\n",
              " 'of code which consequently reduces',\n",
              " 'in the shape class will',\n",
              " 'specialise their superclasses attributes variables',\n",
              " 'a kind of building both',\n",
              " 'which objects acquire or inherit',\n",
              " 'can also sometimes be referred',\n",
              " 'provides the support for representation',\n",
              " 'that both the msc student',\n",
              " 'inheritance is that modules with',\n",
              " 'a subclass and a superclass',\n",
              " 'specialised version however object variables',\n",
              " 'inheritance is also dependant on',\n",
              " 'provides a way to generalize',\n",
              " 'cognitive economy is where less',\n",
              " 'by the circle class because',\n",
              " 'parents class but it is',\n",
              " 'classes in such an architecture',\n",
              " 'or superclass because of this',\n",
              " 'cheaters defeining classes in this',\n",
              " 'to allow existing code to',\n",
              " 'age we have the classes',\n",
              " 'interfaces the advantage that inheritance',\n",
              " 'to add additional forms of',\n",
              " 'adding to the functionality and',\n",
              " 'the class of all living',\n",
              " 'object oriented programming is where',\n",
              " 'and the house and office',\n",
              " 'organs hair etc and methods',\n",
              " 'useful for situations where several',\n",
              " 'new class the subclass is',\n",
              " 'internal structure of an object',\n",
              " 'add extra detail to existing',\n",
              " 'mango and many others one',\n",
              " 'shared control code inheritance is',\n",
              " 'the superclass however any private',\n",
              " 'steel stringed are all types',\n",
              " 'is therefore used to create',\n",
              " 'which where existent in the',\n",
              " 'class inheritance can occur on',\n",
              " 'represent a hierarchy amongst classes',\n",
              " 'subclasses of circle but it',\n",
              " 'or no modification it is',\n",
              " 'that is not sufficiently mature',\n",
              " 'it defines a relationship between',\n",
              " 'generally has access to all',\n",
              " 'new classes using predefined classes',\n",
              " 'classes the hierarchy that is',\n",
              " 'program to achieve this the',\n",
              " 'classes or ancestor classes categorization',\n",
              " 'as needed functions or data',\n",
              " 'be treated cast to living',\n",
              " 'programming inheritance is a way',\n",
              " 'then wanted to add additional',\n",
              " 'languages the power mechanism number',\n",
              " 'object cannot be cast to',\n",
              " 'be more specialised extensions of',\n",
              " 'to this inheritance has another',\n",
              " 'and car classes any car',\n",
              " 'to reuse code without having',\n",
              " 'mechanism by some examples like',\n",
              " 'of the non private methods',\n",
              " 'child and the parent the',\n",
              " 'more methods exposed by ancestor',\n",
              " 'and behaviours functions that are',\n",
              " 'less information being acquired to',\n",
              " 'want to be able to',\n",
              " 'inherits from another class all',\n",
              " 'kind of another for instance',\n",
              " 'the attributes of parents class',\n",
              " 'attributes of child class must',\n",
              " 'and non fiction each of',\n",
              " 'using a superclass of employee',\n",
              " 'to be able to find',\n",
              " 'concept was invented in 1967',\n",
              " 'fantasy horror romance and many',\n",
              " 'involves less information being acquired',\n",
              " 'also have their own personal',\n",
              " 'could exist to model different',\n",
              " 'classes whilst still allowing the',\n",
              " 'of the student node or',\n",
              " 'idea is to create new',\n",
              " 'parent classes which can be',\n",
              " 'generalization and cognitive economy is',\n",
              " 'to a hierarchy of classes',\n",
              " 'of postgraduate student this would',\n",
              " 'could have an extended hierarchy',\n",
              " 'characteristics a house may have',\n",
              " 'for situations where several classes',\n",
              " 'where if visualised would display',\n",
              " 'to be a subclass of',\n",
              " 'to as generalization because is',\n",
              " 'of both the classes from',\n",
              " 'generalization of animal similarly so',\n",
              " 'new methods on top of',\n",
              " 'at which they are travelling',\n",
              " 'categorization in computer languages is',\n",
              " 'existing class methods and variables',\n",
              " 'detail to pre existing classes',\n",
              " 'many pieces of code are',\n",
              " 'other hand cognitive economy is',\n",
              " 'into fantasy horror romance and',\n",
              " 'then be sub divided into',\n",
              " 'new classes the is a',\n",
              " 'no alteration it also offers',\n",
              " 'for example you could have',\n",
              " 'reducing the complexity of a',\n",
              " 'another class it is therefore',\n",
              " 'most of these languages provide',\n",
              " 's type is selected and',\n",
              " 'where we can have modules',\n",
              " 'code can instead shair the',\n",
              " 'a subclass to one superclass',\n",
              " 'little or no modification inheritance',\n",
              " 'part time could work out',\n",
              " 'control of shared control code',\n",
              " 'us to define attributes and',\n",
              " 'postgraduate student this would mean',\n",
              " 'parent or super class the',\n",
              " 'and age we have the',\n",
              " 'programming that supports encapsulation inheritance',\n",
              " 'defined the inheritance concept was',\n",
              " 'static the inheritance hierarchy of',\n",
              " 'have some of the behavior',\n",
              " 'of code due to this',\n",
              " 'another each class groups together',\n",
              " '1967 for simula inheritance provides',\n",
              " 'however any private methods or',\n",
              " 'the train and car subclasses',\n",
              " 'relationship for example a guitar',\n",
              " 'the behaviours and attributes of',\n",
              " 'subclass to one superclass however',\n",
              " 'class specific methods and variables',\n",
              " 'work out the salary from',\n",
              " 'the advantages of inheritance therefore',\n",
              " 'level architecture of classes in',\n",
              " 'be referenced as one base',\n",
              " 'inheritance is a basic concept',\n",
              " 'this inheritance has another view',\n",
              " 'in object oriented programming objects',\n",
              " 'superclasses however an object cannot',\n",
              " 'student class inheritance can occur',\n",
              " 'classes and objects as it',\n",
              " 'to form new classes instances',\n",
              " 'mating etc they also inherit',\n",
              " 'the inheritance hierarchy for example',\n",
              " 'we are usually talking about',\n",
              " 'all be referenced as one',\n",
              " 'have in base class or',\n",
              " 'salary from part time hours',\n",
              " 'the base class more over',\n",
              " 'example in a transport class',\n",
              " 'the behavior and attributes which',\n",
              " 'a fruit apples may naturally',\n",
              " 'a result the newly created',\n",
              " 'known as derived classes inherit',\n",
              " 'other topics such as history',\n",
              " 'sub divided into time periods',\n",
              " 'treated as fungi in object',\n",
              " 'classes using predefined classes the',\n",
              " 'where generalization if the knowledge',\n",
              " 'defeining classes in this way',\n",
              " 'classes which have allready been',\n",
              " 'but abstractly both will have',\n",
              " 'are commen to all animals',\n",
              " 'instance two classes one representing',\n",
              " 'inherit characteristics from both super',\n",
              " 'in oop refers to the',\n",
              " 'controlled by shared control code',\n",
              " 'types of guitar the further',\n",
              " 'so obviously inherit all the',\n",
              " 'all the public methods and',\n",
              " 'is carried out by allowing',\n",
              " 'geography cooking etc history of',\n",
              " 'the peropos of inheritance in',\n",
              " 'idea of inheritance is to',\n",
              " 'control code inheritance is typically',\n",
              " 'defined in the superclass of',\n",
              " 'intended to allow existing code',\n",
              " 'parents class or we can',\n",
              " 'general root node and both',\n",
              " 'classes that take over or',\n",
              " 'of objects of another class',\n",
              " 'can be known to have',\n",
              " 'inheritance is a core aspect',\n",
              " 'fact only its particularities an',\n",
              " 'wider group provided that belongs',\n",
              " 'class inheritance is useful for',\n",
              " 'private methods or variables are',\n",
              " 'polymorphism which is where many',\n",
              " 'way to form new classes',\n",
              " 'more then one subclass and',\n",
              " 'take over or inherit attributes',\n",
              " 'then the subclass es then',\n",
              " 'parents inheritance at its simplest',\n",
              " 'inheritance or inheritance used within',\n",
              " 'be shadowed overridden in java',\n",
              " 'variables and behaviours functions that',\n",
              " 'types of buildings in this',\n",
              " 'post graduate student could both',\n",
              " 'can inherit from only one',\n",
              " 'reuse of existing class code',\n",
              " 'derived classes inherit the properties',\n",
              " 'of code reducing the complexity',\n",
              " 'isn t available to the',\n",
              " 'periods like the romans the',\n",
              " 'inheritance therefore has another view',\n",
              " 'orientated language to reuse code',\n",
              " 'view a dual which describes',\n",
              " 'referred to as ancestor classes',\n",
              " 'class is formed a superclass',\n",
              " 'allows programs developed in an',\n",
              " 'each class groups together objects',\n",
              " 'new classes known as derived',\n",
              " 'class inheritance models the is',\n",
              " 'store references to a superclass',\n",
              " 'properties of both the classes',\n",
              " 'classes that it inherited from',\n",
              " 'employee could have name address',\n",
              " 'methods in its ancestor or',\n",
              " 'a generalization of orange mango',\n",
              " 'in computer languages the power',\n",
              " 'to be changed when a',\n",
              " 'class so cheaters would natuarly',\n",
              " 'extend keyword which is used',\n",
              " 'direction and a current position',\n",
              " 'to be stored generlisation also',\n",
              " 'the concept of inheritance was',\n",
              " 'if the knowledge of specific',\n",
              " 'this could be using a',\n",
              " 'new class to reuse the',\n",
              " 'particularities an instance of a',\n",
              " 'can only inherit from one',\n",
              " 'attributes like weight and age',\n",
              " 'a subclass to inherit default',\n",
              " 'structures of the parent classes',\n",
              " 'or child class because the',\n",
              " 'on several layers where if',\n",
              " 'values and a train may',\n",
              " 'lot of code and therefore',\n",
              " 'exposed by an ancestor in',\n",
              " 'class must have in base',\n",
              " 'and other details whilst full',\n",
              " 'classes instances of which are',\n",
              " 'to that class inheritance can',\n",
              " 'its superclasses each object except',\n",
              " 'the very top most superclasses',\n",
              " 'and the functions that can',\n",
              " 'subclass and a class can',\n",
              " 'talking about a way to',\n",
              " 'a hierarchy amongst classes of',\n",
              " 'in computer languages this is',\n",
              " 'cannot be inherited virtual attributes',\n",
              " 'they may naturally inherit all',\n",
              " 'properties is added instead a',\n",
              " 'be sub divided into more',\n",
              " 'learning by the means of',\n",
              " 'example a cow is a',\n",
              " 'its name from genetic inheritance',\n",
              " 'under control of shared control',\n",
              " 'only inherit from one other',\n",
              " 'types of student are kinds',\n",
              " 'of the subclasses below it',\n",
              " 'given a belongs relation can',\n",
              " 'protected and public attributes and',\n",
              " 'out by allowing the new',\n",
              " 'and the parent the child',\n",
              " 'romance and many more non',\n",
              " 'have allready been defined these',\n",
              " 'and variables from both the',\n",
              " 'code being controlled by shared',\n",
              " 'to form new classes using',\n",
              " 'class to be a subclass',\n",
              " 'that are common between classes',\n",
              " 'of animals plants viruses and',\n",
              " 'is useful for situations where',\n",
              " 'is because it allows new',\n",
              " 'or ancestor classes categorization in',\n",
              " 'train object can utilise it',\n",
              " 'would otherwise have alot of',\n",
              " 'definitions containing only the attributes',\n",
              " 'between classes can be included',\n",
              " 'by allowing the new classes',\n",
              " 'generalisations and similarities about various',\n",
              " 'about various aspects of the',\n",
              " 'from which they are derived',\n",
              " 'basic concept of object oriented',\n",
              " 'no modification it is intended',\n",
              " 'called derived classes and they',\n",
              " 'less information need to be',\n",
              " 'manipulation by the circle class',\n",
              " 'of objects it can be',\n",
              " 'classes the new classes are',\n",
              " 'process in object oriented programming',\n",
              " 'other hand inheritance is normally',\n",
              " 'for simula in 1967 as',\n",
              " 'of the existing classes and',\n",
              " 'specific methods and variables this',\n",
              " 'which are referred to as',\n",
              " 'known term used for this',\n",
              " 'both be said to belong',\n",
              " 'one or more methods exposed',\n",
              " 'human learning in some areas',\n",
              " 'one superclass visibility whenever client',\n",
              " 'code are controled by shared',\n",
              " 'aq main class and mangoes',\n",
              " 'having it replicated unnecessarily elsewhere',\n",
              " 'as the superclass or parent',\n",
              " 'generalization of apple orange mango',\n",
              " 'each different use focuses on',\n",
              " 'classes with little or no',\n",
              " 'an object is fixed at',\n",
              " 'be said to belong to',\n",
              " 'can both be a subclass',\n",
              " 'from another class all the',\n",
              " 'more specialised extensions of the',\n",
              " 'naturally inherit all the properties',\n",
              " 'and attributes of the base',\n",
              " 'classes in this way allows',\n",
              " 'toilet engaged function then you',\n",
              " 'since modules with very similar',\n",
              " 'of those exposed by an',\n",
              " 'between these uses as it',\n",
              " 'the existing classes and new',\n",
              " 'simplest allows programmers to model',\n",
              " 'for example we could further',\n",
              " 'base classes or ancestor classes',\n",
              " 'support provided by inheritance is',\n",
              " 'belong to a more generalised',\n",
              " 'a lot of code reducing',\n",
              " 'the inheritance hierarchy of an',\n",
              " 'the properties of the subclasses',\n",
              " 'is child classs of the',\n",
              " 'seed of a plant inheritance',\n",
              " 'a train may not have',\n",
              " 'powerful mechanism of information processing',\n",
              " 'can also be refered to',\n",
              " 'means that inheritance is used',\n",
              " 'don t share e g',\n",
              " 'by this process whose objects',\n",
              " 'code that are under control',\n",
              " 'of both car and train',\n",
              " 'acoustic and steel stringed are',\n",
              " 'this process whose objects will',\n",
              " 'may have methods along the',\n",
              " 'that take over or inherit',\n",
              " 'be known as one of',\n",
              " 'there are examples where we',\n",
              " 'creating new methods on top',\n",
              " 'that the subclass can use',\n",
              " 'is a kind of string',\n",
              " 'characteristics from both super classes',\n",
              " 'fundamental for helping humans learn',\n",
              " 'be a subclass to one',\n",
              " 'which is a concept that',\n",
              " 'instance of a fruit is',\n",
              " 'by allowing the new class',\n",
              " 'from its parents inheritance at',\n",
              " 'be used by the most',\n",
              " 'for the seed of a',\n",
              " 'behaviours that are unique to',\n",
              " 'a number of occupants whereas',\n",
              " 'as polymorphism on the other',\n",
              " 'of the basic concepts of',\n",
              " 'be a class variable of',\n",
              " 'reuse the methods and variables',\n",
              " 'a core aspect of object',\n",
              " 'overriding methods in its ancestor',\n",
              " 'an ancestor complex inheritance or',\n",
              " 'existing classes and new methods',\n",
              " 'means that setradius is available',\n",
              " 'private methods and variables can',\n",
              " 'the postgraduate node by adding',\n",
              " 'tend to be easier to',\n",
              " 'specific entities and is applied',\n",
              " 'it represents by categorization in',\n",
              " 'it isn t available to',\n",
              " 'subclasses they are specific types',\n",
              " 'define as a powerful feature',\n",
              " 'a similar type with similar',\n",
              " 'position methods utilising this data',\n",
              " 'programmer has to note generalisations',\n",
              " 'an extended hierarchy where a',\n",
              " 'the methods and variables of',\n",
              " 'several classes which can all',\n",
              " 'functionality and data structures of',\n",
              " 'take over or inherit attribute',\n",
              " 'as one base class inheritance',\n",
              " 'have a method which works',\n",
              " 'general characteristics for other objects',\n",
              " 'help reuse existing code it',\n",
              " 'then extend these to add',\n",
              " 'can be shadowed overridden in',\n",
              " 'orange is child classs of',\n",
              " 'in 1967 for simula the',\n",
              " 'language it is possible that',\n",
              " 'generally fall into two categories',\n",
              " 'variables and methods are available',\n",
              " 'and methods cannot be inherited',\n",
              " 'inherit certain characteristics from buildings',\n",
              " 'because of this it means',\n",
              " 'as ancestor classes the idea',\n",
              " 'example the building would be',\n",
              " 'will have a number of',\n",
              " 'staff wouldn t need these',\n",
              " 'a way to form new',\n",
              " 'the postgraduate class extends the',\n",
              " 'colour as defined in the',\n",
              " 'java allows object inheritance when',\n",
              " 'object orientated language to reuse',\n",
              " 'can be referenced in terms',\n",
              " 'result the newly created inherited',\n",
              " 'are defined in the very',\n",
              " 'of inheritance is to reuse',\n",
              " 'from buildings but also have',\n",
              " 'processing information and inheritance provides',\n",
              " 'term used for this replacing',\n",
              " 'which this new class is',\n",
              " 'new classes to reuse the',\n",
              " 'that is crucial to human',\n",
              " 'visibility whenever client code has',\n",
              " 'classes to be made that',\n",
              " 'can understand this mechanism by',\n",
              " 'wider group given a belongs',\n",
              " 'inheritance tree you get the',\n",
              " 'books generally fall into two',\n",
              " 'superclass leaving the subclass definitions',\n",
              " 'languages which is a concept',\n",
              " 'are either called base classes',\n",
              " 'to those exposed by an',\n",
              " 'an instance of a fruit',\n",
              " 'apple orange etc since apples',\n",
              " 'unique attributes organs hair etc',\n",
              " 'personal characteristics don t apply',\n",
              " 'specify one class to be',\n",
              " 'main class so obviously inherit',\n",
              " 'by the most specialised class',\n",
              " 'one base class inheritance is',\n",
              " 'a speed at which they',\n",
              " 'divided into more groups fiction',\n",
              " 'with similar interfaces the advantage',\n",
              " 'about each specific entity except',\n",
              " 'and steel stringed are all',\n",
              " 'inheritance is the ability of',\n",
              " 'methods to those exposed by',\n",
              " 'which describes many pieces of',\n",
              " 'is a kind of relationship',\n",
              " 'more detail an example of',\n",
              " 'aeroplane you may wish for',\n",
              " 'its superclass animals can be',\n",
              " 'used again with minimal or',\n",
              " 'main class and mangoes apple',\n",
              " 'does not change with time',\n",
              " 'also be refered to as',\n",
              " 'a new class from the',\n",
              " 'these classes to be reused',\n",
              " 'has to note generalisations and',\n",
              " 'of buildings in this example',\n",
              " 'relationship between the child and',\n",
              " 'already existing classes the concept',\n",
              " 'of generalization and cognitive economy',\n",
              " 'amp cheaters defeining classes in',\n",
              " 'of parents class or we',\n",
              " 'top of those exposed by',\n",
              " 'important feature in object orientated',\n",
              " 'void setcolour color newcolour colour',\n",
              " 'animal or that bridges and',\n",
              " 'since apples are fruit i',\n",
              " 'class is formed using classes',\n",
              " 'being acquired to be stored',\n",
              " 'accomplished either by replacing one',\n",
              " 'code to be used again',\n",
              " 'common but abstractly both will',\n",
              " 'child class has all the',\n",
              " 'which works out the new',\n",
              " 'also used in generalisation and',\n",
              " 'simula inheritance provides the support',\n",
              " 'classes which can be useful',\n",
              " 'by the subclasses can be',\n",
              " 'specific types and specialise the',\n",
              " 'class or parent class i',\n",
              " 'has been also used in',\n",
              " 'or more methods exposed by',\n",
              " ...]"
            ]
          },
          "metadata": {
            "tags": []
          },
          "execution_count": 11
        }
      ]
    },
    {
      "cell_type": "markdown",
      "metadata": {
        "id": "DJKWFBbzK_CZ"
      },
      "source": [
        "### STEP - 2: Min-Hashing (40 points)"
      ]
    },
    {
      "cell_type": "code",
      "metadata": {
        "id": "_5c-_lMiK_Ca"
      },
      "source": [
        "# ***************************************************NEW***********************************************************\n",
        "# Generate Hash functions - \n",
        "    # We use (ax + b) mod N formula to permute shingle index\n",
        "    # where a,b are random numbers, N total index size, and x is the index\n",
        "# We need to do L permutations - In other words we need to have L permutations (lists) of new indexes\n",
        "# Following function takes total index size N and L as arguments\n",
        "    # And returns L new lists of size N\n",
        "    \n",
        "def get_hash_functions(N,L):\n",
        "    hash_functions = []\n",
        "    \n",
        "    for itr in range(L):\n",
        "        a=randrange(1,400)\n",
        "        b=randrange(1,400)\n",
        "        \n",
        "        new_hash_function = []\n",
        "        for i in range(N):\n",
        "            new_hash_function.append((a * i + b) % N)\n",
        "        \n",
        "        hash_functions.append(new_hash_function)\n",
        "    return hash_functions\n",
        "        \n",
        "# test\n",
        "#hash_functions = get_hash_functions(4186,50)"
      ],
      "execution_count": 12,
      "outputs": []
    },
    {
      "cell_type": "code",
      "metadata": {
        "id": "gFNi4veRK_Cc"
      },
      "source": [
        "# Type your code here to generate all L hash functions\n",
        "# Generate hash functions only for shingle index created for k=5\n",
        "L_50 = 50\n",
        "hash_functions_50 = get_hash_functions(len(unique_shinglesAllDocs),L_50)#Here it generates all the hash functions for L = 50"
      ],
      "execution_count": 13,
      "outputs": []
    },
    {
      "cell_type": "code",
      "metadata": {
        "id": "WSNXzu16THHX"
      },
      "source": [
        "signature_matrix_50 = []#To store signature matrix generated\n",
        "for c in hash_functions_50:#For each row in the hash functions\n",
        "  list1 = []\n",
        "  for a in docsAsShingleSets:#For each of the document in the shingles dictionary\n",
        "    list3 = []\n",
        "    for b in docsAsShingleSets[a]:#for each of the shingle\n",
        "      list2 = unique_shinglesAllDocs.index(b)#Take the index of that shingle\n",
        "      list3.append(c[list2])#Appends all the values of the corresponding hashfunction values to a list\n",
        "    list1.append(min(list3))#Takes the min of hashfunction values for each document\n",
        "  signature_matrix_50.append(list1)#Finally append the minimums of all the documents to form the signature matrix"
      ],
      "execution_count": 14,
      "outputs": []
    },
    {
      "cell_type": "code",
      "metadata": {
        "id": "wonmL4xkTN0E",
        "outputId": "daea0267-8c6b-4c22-e4bb-dd00f0e24710",
        "colab": {
          "base_uri": "https://localhost:8080/",
          "height": 34
        }
      },
      "source": [
        "len(signature_matrix_50)#Here it prints the lenght of signature matrix. Please remove the len() to print the whole signature matrix for L = 50"
      ],
      "execution_count": 15,
      "outputs": [
        {
          "output_type": "execute_result",
          "data": {
            "text/plain": [
              "50"
            ]
          },
          "metadata": {
            "tags": []
          },
          "execution_count": 15
        }
      ]
    },
    {
      "cell_type": "code",
      "metadata": {
        "id": "XziK3LeaK_Ce"
      },
      "source": [
        "L_100 = 100 #This and below two cells generates the hashfunctions and signature matrix similar to above 3 cells for L=100 \n",
        "hash_functions_100 = get_hash_functions(len(unique_shinglesAllDocs),L_100)"
      ],
      "execution_count": 16,
      "outputs": []
    },
    {
      "cell_type": "code",
      "metadata": {
        "id": "SvO5E2Xl0KNb"
      },
      "source": [
        "signature_matrix_100 = []\n",
        "for c in hash_functions_100:\n",
        "  list1 = []\n",
        "  for a in docsAsShingleSets:\n",
        "    list3 = []\n",
        "    for b in docsAsShingleSets[a]:\n",
        "      list2 = unique_shinglesAllDocs.index(b)\n",
        "      list3.append(c[list2])\n",
        "    list1.append(min(list3))\n",
        "  signature_matrix_100.append(list1)"
      ],
      "execution_count": 17,
      "outputs": []
    },
    {
      "cell_type": "code",
      "metadata": {
        "id": "x5m2seOz0S4w",
        "outputId": "d416551e-e70c-4526-ccfd-ef8b8af0b08a",
        "colab": {
          "base_uri": "https://localhost:8080/",
          "height": 34
        }
      },
      "source": [
        "len(signature_matrix_100)"
      ],
      "execution_count": 18,
      "outputs": [
        {
          "output_type": "execute_result",
          "data": {
            "text/plain": [
              "100"
            ]
          },
          "metadata": {
            "tags": []
          },
          "execution_count": 18
        }
      ]
    },
    {
      "cell_type": "code",
      "metadata": {
        "id": "ApW9RG7lXbMk"
      },
      "source": [
        "L_200 = 200 #This and below two cells generates the hashfunctions and signature matrix similar to above 3 cells for L=200\n",
        "hash_functions_200 = get_hash_functions(len(unique_shinglesAllDocs),L_200)"
      ],
      "execution_count": 19,
      "outputs": []
    },
    {
      "cell_type": "code",
      "metadata": {
        "id": "UfWeEHaj0aUU"
      },
      "source": [
        "signature_matrix_200 = []\n",
        "for c in hash_functions_200:\n",
        "  list1 = []\n",
        "  for a in docsAsShingleSets:\n",
        "    list3 = []\n",
        "    for b in docsAsShingleSets[a]:\n",
        "      list2 = unique_shinglesAllDocs.index(b)\n",
        "      list3.append(c[list2])\n",
        "    list1.append(min(list3))\n",
        "  signature_matrix_200.append(list1)"
      ],
      "execution_count": 20,
      "outputs": []
    },
    {
      "cell_type": "code",
      "metadata": {
        "id": "bVoGyBy5oNUh",
        "outputId": "17081b13-4879-477f-f2c5-9c791c764262",
        "colab": {
          "base_uri": "https://localhost:8080/",
          "height": 34
        }
      },
      "source": [
        "len(signature_matrix_200)"
      ],
      "execution_count": 21,
      "outputs": [
        {
          "output_type": "execute_result",
          "data": {
            "text/plain": [
              "200"
            ]
          },
          "metadata": {
            "tags": []
          },
          "execution_count": 21
        }
      ]
    },
    {
      "cell_type": "code",
      "metadata": {
        "id": "cP-bxCNUXbuL"
      },
      "source": [
        "L_500 = 500 ##This and below two cells generates the hashfunctions and signature matrix similar to above 3 cells for L=500\n",
        "hash_functions_500 = get_hash_functions(len(unique_shinglesAllDocs),L_500)"
      ],
      "execution_count": 22,
      "outputs": []
    },
    {
      "cell_type": "code",
      "metadata": {
        "id": "O_9AcY2p0eM0"
      },
      "source": [
        "signature_matrix_500 = []\n",
        "for c in hash_functions_500:\n",
        "  list1 = []\n",
        "  for a in docsAsShingleSets:\n",
        "    list3 = []\n",
        "    for b in docsAsShingleSets[a]:\n",
        "      list2 = unique_shinglesAllDocs.index(b)\n",
        "      list3.append(c[list2])\n",
        "    list1.append(min(list3))\n",
        "  signature_matrix_500.append(list1)"
      ],
      "execution_count": 23,
      "outputs": []
    },
    {
      "cell_type": "code",
      "metadata": {
        "id": "qisL1lkIoKNW",
        "outputId": "bf6516a1-4bd2-4792-a228-9a6f142efa72",
        "colab": {
          "base_uri": "https://localhost:8080/",
          "height": 34
        }
      },
      "source": [
        "len(signature_matrix_500)"
      ],
      "execution_count": 24,
      "outputs": [
        {
          "output_type": "execute_result",
          "data": {
            "text/plain": [
              "500"
            ]
          },
          "metadata": {
            "tags": []
          },
          "execution_count": 24
        }
      ]
    },
    {
      "cell_type": "code",
      "metadata": {
        "id": "4uUvdI9NwwmY"
      },
      "source": [
        "L_1000 = 1000 #This and below two cells generates the hashfunctions and signature matrix similar to above 3 cells for L=1000\n",
        "hash_functions_1000 = get_hash_functions(len(unique_shinglesAllDocs),L_1000)"
      ],
      "execution_count": 25,
      "outputs": []
    },
    {
      "cell_type": "code",
      "metadata": {
        "id": "ZqDC1Ien0hP2"
      },
      "source": [
        "signature_matrix_1000 = []\n",
        "for c in hash_functions_1000:\n",
        "  list1 = []\n",
        "  for a in docsAsShingleSets:\n",
        "    list3 = []\n",
        "    for b in docsAsShingleSets[a]:\n",
        "      list2 = unique_shinglesAllDocs.index(b)\n",
        "      list3.append(c[list2])\n",
        "    list1.append(min(list3))\n",
        "  signature_matrix_1000.append(list1)"
      ],
      "execution_count": 26,
      "outputs": []
    },
    {
      "cell_type": "code",
      "metadata": {
        "id": "rx9WLma6Xjqe",
        "outputId": "9bf57037-b3dd-4571-ccce-8bffaa16059a",
        "colab": {
          "base_uri": "https://localhost:8080/",
          "height": 34
        }
      },
      "source": [
        "len(signature_matrix_1000)\n",
        "#signature_matrix_1000"
      ],
      "execution_count": 27,
      "outputs": [
        {
          "output_type": "execute_result",
          "data": {
            "text/plain": [
              "1000"
            ]
          },
          "metadata": {
            "tags": []
          },
          "execution_count": 27
        }
      ]
    },
    {
      "cell_type": "code",
      "metadata": {
        "id": "CQ0MoM5PK_Cl"
      },
      "source": [
        "# Type your code here to do the fact check \n",
        "#      with any one query document in the 'Original_Sample' directory\n",
        "\n",
        "original = 'Original_Sample/orig_taska.txt' # Reads the single original document\n",
        "\n",
        "# STEP-1: Generate 5-shingles \n",
        "    # (if any shingles are not present in your shingle index, simply ignore them)\n",
        "    \n",
        "    \n",
        "    \n",
        "# STEP-2: Generate signature vector from L hash functions\n",
        "\n",
        "\n",
        "\n",
        "# STEP-3: Calculate Jaccard similarity of signature vector of orginal doc.\n",
        "    # and all other documents \n",
        "    \n",
        "t = 0.2 #Threshold\n"
      ],
      "execution_count": 28,
      "outputs": []
    },
    {
      "cell_type": "code",
      "metadata": {
        "id": "SNoO0dcz_7Bb",
        "outputId": "4ebd14c2-69d6-4838-d22d-5d7c7aa8480a",
        "colab": {
          "base_uri": "https://localhost:8080/",
          "height": 34
        }
      },
      "source": [
        "k = 5 #This cell generates the k-shingles for the original document similar to the data sample documents shown in the code cell 8\n",
        "data_org = {} #To store the shingles and document name in the original directory\n",
        "key = 'orig_taska'\n",
        "from bs4 import BeautifulSoup\n",
        "with open(original, \"rb\") as fname:\n",
        "    bytes_ = fname.read()\n",
        "    data_org[key] = str(BeautifulSoup(bytes_))\n",
        "import re\n",
        "soup = BeautifulSoup(data_org[key], \"html.parser\")\n",
        "data_org[key] = str(soup).replace(\"<body>\", \"\").replace(\"<html>\", \"\").replace(\"</html>\", \"\").replace(\"</body>\", \"\").replace(\"<p>\", \"\").replace(\"</p>\", \"\").lower()\n",
        "data_org[key] = re.sub(\"[^\\w]\", \" \", data_org[key]).split()\n",
        "docsAsShingleSets_org = {}\n",
        "docNames_org = []\n",
        "for i in data_org:\n",
        "    words = data_org[i]\n",
        "    docNames_org.append(i)\n",
        "    shinglesInDocWords = set()\n",
        "    shinglesInDocInts = set()\n",
        "    shingle = []\n",
        "    for index in range(len(words) - k + 1):\n",
        "        shingle = words[index:index + k]\n",
        "        shingle = ' '.join(shingle)\n",
        "        if shingle not in shinglesInDocWords:\n",
        "            shinglesInDocWords.add(shingle)\n",
        "        else:\n",
        "            del shingle\n",
        "\n",
        "    # Store the completed list of hashed shingles for this document in the dictionary.\n",
        "    docsAsShingleSets_org[i] = shinglesInDocWords\n",
        "shinglesAllDocs = []\n",
        "for a in docsAsShingleSets_org:\n",
        "  shinglesAllDocs = shinglesAllDocs + list(docsAsShingleSets_org[a])\n",
        "unique_shinglesAllDocs_org = list(set(shinglesAllDocs))\n",
        "print('Number of shingles for k = 5 is ' + str(len(unique_shinglesAllDocs_org)))#This prints the number of k-shingles in the original document"
      ],
      "execution_count": 29,
      "outputs": [
        {
          "output_type": "stream",
          "text": [
            "Number of shingles for k = 5 is 304\n"
          ],
          "name": "stdout"
        }
      ]
    },
    {
      "cell_type": "code",
      "metadata": {
        "id": "txNfP0UVVmZn"
      },
      "source": [
        "signature_vector_1000 = [] #This list is to store the signature vector generated for L = 1000 for original document\n",
        "for c in hash_functions_1000:#For each row in the hash functions\n",
        "  list1 = []\n",
        "  for a in docsAsShingleSets_org:#For each of the document in the shingles dictionary\n",
        "    list3 = []\n",
        "    for b in docsAsShingleSets_org[a]:#for each of the shingle\n",
        "      try:\n",
        "        list2 = unique_shinglesAllDocs.index(b)#Take the index of that shingle\n",
        "        list3.append(c[list2])#Appends all the values of the corresponding hashfunction values to a list\n",
        "      except:\n",
        "        pass#This statement is ignore the case where the shingle of the original document is not found in the unique shingles list\n",
        "    list1.append(min(list3))#Takes the min of hashfunction values for each document\n",
        "  signature_vector_1000.append(list1)#Finally append the minimums of all the documents to form the signature vector"
      ],
      "execution_count": 30,
      "outputs": []
    },
    {
      "cell_type": "code",
      "metadata": {
        "id": "2lk5oCL3CSQD"
      },
      "source": [
        "signature_vector_500 = []#This generates the signature vector to the original document similar to the above cell for L= 500\n",
        "for c in hash_functions_500:\n",
        "  list1 = []\n",
        "  for a in docsAsShingleSets_org:\n",
        "    list3 = []\n",
        "    for b in docsAsShingleSets_org[a]:\n",
        "      try:\n",
        "        list2 = unique_shinglesAllDocs.index(b)\n",
        "        list3.append(c[list2])\n",
        "      except:\n",
        "        pass\n",
        "    list1.append(min(list3))\n",
        "  signature_vector_500.append(list1)"
      ],
      "execution_count": 31,
      "outputs": []
    },
    {
      "cell_type": "code",
      "metadata": {
        "id": "GkqHMtJLCe4o"
      },
      "source": [
        "signature_vector_200 = []#This generates the signature vector to the original document similar to the above cell for L= 200\n",
        "for c in hash_functions_200:\n",
        "  list1 = []\n",
        "  for a in docsAsShingleSets_org:\n",
        "    list3 = []\n",
        "    for b in docsAsShingleSets_org[a]:\n",
        "      try:\n",
        "        list2 = unique_shinglesAllDocs.index(b)\n",
        "        list3.append(c[list2])\n",
        "      except:\n",
        "        pass\n",
        "    list1.append(min(list3))\n",
        "  signature_vector_200.append(list1)"
      ],
      "execution_count": 32,
      "outputs": []
    },
    {
      "cell_type": "code",
      "metadata": {
        "id": "ae8urWH-Cnqp"
      },
      "source": [
        "signature_vector_100 = []#This generates the signature vector to the original document similar to the above cell for L= 100\n",
        "for c in hash_functions_100:\n",
        "  list1 = []\n",
        "  for a in docsAsShingleSets_org:\n",
        "    list3 = []\n",
        "    for b in docsAsShingleSets_org[a]:\n",
        "      try:\n",
        "        list2 = unique_shinglesAllDocs.index(b)\n",
        "        list3.append(c[list2])\n",
        "      except:\n",
        "        pass\n",
        "    list1.append(min(list3))\n",
        "  signature_vector_100.append(list1)"
      ],
      "execution_count": 33,
      "outputs": []
    },
    {
      "cell_type": "code",
      "metadata": {
        "id": "GLNi9b1OCq3i"
      },
      "source": [
        "signature_vector_50 = []#This generates the signature vector to the original document similar to the above cell for L= 50\n",
        "for c in hash_functions_50:\n",
        "  list1 = []\n",
        "  for a in docsAsShingleSets_org:\n",
        "    list3 = []\n",
        "    for b in docsAsShingleSets_org[a]:\n",
        "      try:\n",
        "        list2 = unique_shinglesAllDocs.index(b)\n",
        "        list3.append(c[list2])\n",
        "      except:\n",
        "        pass\n",
        "    list1.append(min(list3))\n",
        "  signature_vector_50.append(list1)"
      ],
      "execution_count": 34,
      "outputs": []
    },
    {
      "cell_type": "markdown",
      "metadata": {
        "id": "mFKQbj3cK_Cp"
      },
      "source": [
        "***************************************************NEW***********************************************************\n",
        "For each L = {50,100,200,500,1000}, report all documents (file_names) below that have Jaccard similarity > t=0.20\n",
        "Sort the documents in decreasing order of the Jaccard similarity\n"
      ]
    },
    {
      "cell_type": "code",
      "metadata": {
        "id": "yFtVjIY_K_Cp"
      },
      "source": [
        "similarity_1000 = {} #To store the jaccard similarity of all the data sample documents with the original document\n",
        "for a in range(len(docNames)):#For each of the document in signature vector\n",
        "  count = 0\n",
        "  for b in range(L_1000):# for each of the hashfunction\n",
        "    if signature_matrix_1000[b][a] == signature_vector_1000[b][0]:#Compares the hash values of the original document with each of the input document\n",
        "      count = count + 1#update the count if it finds the match\n",
        "  count = (count/L_1000)#calculates jaccard similarity value\n",
        "  similarity_1000[(docNames[a], docNames_org[0])] = count #updates the dictionary with the input document names, original document name and jaccard similarity\n",
        "similar_documents_1000 = {key: similarity_1000[key] for key in similarity_1000 if similarity_1000[key] >= t}#filter the documents with jaccard similarity greater than t\n",
        "similar_documents_sorted_1000 = sorted(similar_documents_1000.items(), key=lambda x:-x[1])#Sort the documents based on the values of jaccard similarity"
      ],
      "execution_count": 35,
      "outputs": []
    },
    {
      "cell_type": "code",
      "metadata": {
        "id": "WA-XL9NTGE_h",
        "outputId": "fef75c7f-fd77-407c-855f-36b39b7e5534",
        "colab": {
          "base_uri": "https://localhost:8080/",
          "height": 119
        }
      },
      "source": [
        "similar_documents_sorted_1000"
      ],
      "execution_count": 36,
      "outputs": [
        {
          "output_type": "execute_result",
          "data": {
            "text/plain": [
              "[(('g0pE_taska.txt', 'orig_taska'), 0.907),\n",
              " (('g4pC_taska.txt', 'orig_taska'), 0.866),\n",
              " (('g3pC_taska.txt', 'orig_taska'), 0.368),\n",
              " (('g2pC_taska.txt', 'orig_taska'), 0.329),\n",
              " (('g0pD_taska.txt', 'orig_taska'), 0.307),\n",
              " (('g2pE_taska.txt', 'orig_taska'), 0.241)]"
            ]
          },
          "metadata": {
            "tags": []
          },
          "execution_count": 36
        }
      ]
    },
    {
      "cell_type": "code",
      "metadata": {
        "id": "_C4rFsIhC8Yr"
      },
      "source": [
        "similarity_500 = {} #This and below cell generates the documents with jaccard similarity greater than t for L = 500 similar to the above two cells\n",
        "for a in range(len(docNames)):\n",
        "  count = 0\n",
        "  for b in range(L_500):\n",
        "    if signature_matrix_500[b][a] == signature_vector_500[b][0]:\n",
        "      count = count + 1\n",
        "  count = (count/L_500)\n",
        "  similarity_500[(docNames[a], docNames_org[0])] = count\n",
        "similar_documents_500 = {key: similarity_500[key] for key in similarity_500 if similarity_500[key] >= t}\n",
        "similar_documents_sorted_500 = sorted(similar_documents_500.items(), key=lambda x:-x[1])"
      ],
      "execution_count": 37,
      "outputs": []
    },
    {
      "cell_type": "code",
      "metadata": {
        "id": "0TS-mm4sDNYr",
        "outputId": "56bae9fc-53d0-45b7-946d-43ecba82eefa",
        "colab": {
          "base_uri": "https://localhost:8080/",
          "height": 119
        }
      },
      "source": [
        "similar_documents_sorted_500"
      ],
      "execution_count": 38,
      "outputs": [
        {
          "output_type": "execute_result",
          "data": {
            "text/plain": [
              "[(('g0pE_taska.txt', 'orig_taska'), 0.896),\n",
              " (('g4pC_taska.txt', 'orig_taska'), 0.848),\n",
              " (('g2pC_taska.txt', 'orig_taska'), 0.37),\n",
              " (('g3pC_taska.txt', 'orig_taska'), 0.362),\n",
              " (('g2pE_taska.txt', 'orig_taska'), 0.274),\n",
              " (('g0pD_taska.txt', 'orig_taska'), 0.258)]"
            ]
          },
          "metadata": {
            "tags": []
          },
          "execution_count": 38
        }
      ]
    },
    {
      "cell_type": "code",
      "metadata": {
        "id": "s1Uo6tT-DPT9"
      },
      "source": [
        "similarity_200 = {} #This and below cell generates the documents with jaccard similarity greater than t for L = 200 similar to the above two cells\n",
        "for a in range(len(docNames)):\n",
        "  count = 0\n",
        "  for b in range(L_200):\n",
        "    #print(a,b)\n",
        "    if signature_matrix_200[b][a] == signature_vector_200[b][0]:\n",
        "      count = count + 1\n",
        "  count = (count/L_200)\n",
        "  similarity_200[(docNames[a], docNames_org[0])] = count\n",
        "similar_documents_200 = {key: similarity_200[key] for key in similarity_200 if similarity_200[key] >= t}\n",
        "similar_documents_sorted_200 = sorted(similar_documents_200.items(), key=lambda x:-x[1])"
      ],
      "execution_count": 39,
      "outputs": []
    },
    {
      "cell_type": "code",
      "metadata": {
        "id": "drPh3U2GDbiJ",
        "outputId": "db2231b5-c38a-40ca-acd8-b783a647d15f",
        "colab": {
          "base_uri": "https://localhost:8080/",
          "height": 119
        }
      },
      "source": [
        "similar_documents_sorted_200"
      ],
      "execution_count": 40,
      "outputs": [
        {
          "output_type": "execute_result",
          "data": {
            "text/plain": [
              "[(('g0pE_taska.txt', 'orig_taska'), 0.92),\n",
              " (('g4pC_taska.txt', 'orig_taska'), 0.825),\n",
              " (('g2pC_taska.txt', 'orig_taska'), 0.39),\n",
              " (('g3pC_taska.txt', 'orig_taska'), 0.355),\n",
              " (('g0pD_taska.txt', 'orig_taska'), 0.245),\n",
              " (('g2pE_taska.txt', 'orig_taska'), 0.23)]"
            ]
          },
          "metadata": {
            "tags": []
          },
          "execution_count": 40
        }
      ]
    },
    {
      "cell_type": "code",
      "metadata": {
        "id": "zHvQLHUzDcZW"
      },
      "source": [
        "similarity_100 = {} #This and below cell generates the documents with jaccard similarity greater than t for L = 100 similar to the above two cells\n",
        "for a in range(len(docNames)):\n",
        "  count = 0\n",
        "  for b in range(L_100):\n",
        "    #print(a,b)\n",
        "    if signature_matrix_100[b][a] == signature_vector_100[b][0]:\n",
        "      count = count + 1\n",
        "  count = (count/L_100)\n",
        "  similarity_100[(docNames[a], docNames_org[0])] = count\n",
        "similar_documents_100 = {key: similarity_100[key] for key in similarity_100 if similarity_100[key] >= t}\n",
        "similar_documents_sorted_100 = sorted(similar_documents_100.items(), key=lambda x:-x[1])"
      ],
      "execution_count": 41,
      "outputs": []
    },
    {
      "cell_type": "code",
      "metadata": {
        "id": "JFtaXPhhDzV9",
        "outputId": "6118aa4c-6752-4f87-aa36-12f39708418e",
        "colab": {
          "base_uri": "https://localhost:8080/",
          "height": 119
        }
      },
      "source": [
        "similar_documents_sorted_100"
      ],
      "execution_count": 42,
      "outputs": [
        {
          "output_type": "execute_result",
          "data": {
            "text/plain": [
              "[(('g0pE_taska.txt', 'orig_taska'), 0.94),\n",
              " (('g4pC_taska.txt', 'orig_taska'), 0.88),\n",
              " (('g3pC_taska.txt', 'orig_taska'), 0.42),\n",
              " (('g2pC_taska.txt', 'orig_taska'), 0.38),\n",
              " (('g0pD_taska.txt', 'orig_taska'), 0.3),\n",
              " (('g2pE_taska.txt', 'orig_taska'), 0.29)]"
            ]
          },
          "metadata": {
            "tags": []
          },
          "execution_count": 42
        }
      ]
    },
    {
      "cell_type": "code",
      "metadata": {
        "id": "4Ct3pN1-D36a"
      },
      "source": [
        "similarity_50 = {} #This and below cell generates the documents with jaccard similarity greater than t for L = 50 similar to the above two cells\n",
        "for a in range(len(docNames)):\n",
        "  count = 0\n",
        "  for b in range(L_50):\n",
        "    #print(a,b)\n",
        "    if signature_matrix_50[b][a] == signature_vector_50[b][0]:\n",
        "      count = count + 1\n",
        "  count = (count/L_50)\n",
        "  similarity_50[(docNames[a], docNames_org[0])] = count\n",
        "similar_documents_50 = {key: similarity_50[key] for key in similarity_50 if similarity_50[key] >= t}\n",
        "similar_documents_sorted_50 = sorted(similar_documents_50.items(), key=lambda x:-x[1])"
      ],
      "execution_count": 43,
      "outputs": []
    },
    {
      "cell_type": "code",
      "metadata": {
        "id": "j0_D88lJEDGt",
        "outputId": "76d0fb79-d943-43f4-f8e2-b84c7cbc286a",
        "colab": {
          "base_uri": "https://localhost:8080/",
          "height": 119
        }
      },
      "source": [
        "similar_documents_sorted_50"
      ],
      "execution_count": 44,
      "outputs": [
        {
          "output_type": "execute_result",
          "data": {
            "text/plain": [
              "[(('g4pC_taska.txt', 'orig_taska'), 0.92),\n",
              " (('g0pE_taska.txt', 'orig_taska'), 0.92),\n",
              " (('g2pC_taska.txt', 'orig_taska'), 0.48),\n",
              " (('g0pD_taska.txt', 'orig_taska'), 0.4),\n",
              " (('g3pC_taska.txt', 'orig_taska'), 0.38),\n",
              " (('g2pE_taska.txt', 'orig_taska'), 0.26)]"
            ]
          },
          "metadata": {
            "tags": []
          },
          "execution_count": 44
        }
      ]
    },
    {
      "cell_type": "markdown",
      "metadata": {
        "id": "BwCQejwaK_Cq"
      },
      "source": [
        "### STEP - 3: LSH (30 points)"
      ]
    },
    {
      "cell_type": "code",
      "metadata": {
        "id": "TpIb3L-8K_Cr"
      },
      "source": [
        "# Type your code here to hash signature matrix into B buckets\n",
        "# Use the technique to split the signature matrix into b bands of r rows\n",
        "# Convert only the signature matrix generated with L=1000\n",
        "\n",
        "b_50 = 50\n",
        "r = 20\n",
        "B = 199\n",
        "matrix_1000 = np.array(signature_matrix_1000) "
      ],
      "execution_count": 45,
      "outputs": []
    },
    {
      "cell_type": "code",
      "metadata": {
        "id": "UiVPK9CPK_Ct"
      },
      "source": [
        "matrix_1000_1= matrix_1000.reshape((b_50,r,len(docNames)))#This splits the signature matrix into b bands of r rows"
      ],
      "execution_count": 46,
      "outputs": []
    },
    {
      "cell_type": "code",
      "metadata": {
        "id": "zGka-95dK_Cv"
      },
      "source": [
        "# Type your code here to do generate candidate documents\n",
        "# Follow all steps from STEP - 2 fact check (except the Jaccard similarity part)\n",
        "\n",
        "# STEP - 1: Split your original document signature vector into b bands of r rows\n",
        "\n",
        "# STEP - 2: Hash using the same hash functions created for \n",
        "    # signature matrix hashing (in the previous cell)\n",
        "    "
      ],
      "execution_count": 47,
      "outputs": []
    },
    {
      "cell_type": "code",
      "metadata": {
        "id": "Tj6rn5yQK_Cy"
      },
      "source": [
        "# Type your code here to do the fact check\n",
        "# Calculate Jaccard similarity of the original document with only \n",
        "    # candidate documents\n",
        "    "
      ],
      "execution_count": 48,
      "outputs": []
    },
    {
      "cell_type": "code",
      "metadata": {
        "id": "FjPa7kJHP-4v"
      },
      "source": [
        "a=random.sample(range(r), r) #Generates random numbers for 'a' in the range of r\n",
        "hashed_sig_matrix = [] #to store the converted signature matrix into hashed signature matrix \n",
        "for x in range(b_50): # For each of band\n",
        "  list1 = []\n",
        "  for y in range(len(docNames)): # for each document\n",
        "    hashvalue = 0\n",
        "    for z in range(r):\n",
        "      hashvalue = hashvalue + a[z]*matrix_1000_1[x,z,y] #calculates the value of bucket to which that document in a band belongs to\n",
        "    list1.append(hashvalue%B) #append those bucket values to a list\n",
        "  hashed_sig_matrix.append(list1) #append the hashed bucket values to a list"
      ],
      "execution_count": 49,
      "outputs": []
    },
    {
      "cell_type": "code",
      "metadata": {
        "id": "jyTDIyZr-5U9"
      },
      "source": [
        "matrix_1000_org = np.array(signature_vector_1000)\n",
        "matrix_1000_1org= matrix_1000_org.reshape((b_50,r,1))#convert the signature vector into b bands and r rows"
      ],
      "execution_count": 50,
      "outputs": []
    },
    {
      "cell_type": "code",
      "metadata": {
        "id": "6bcO6TCOIvph"
      },
      "source": [
        "hashed_orgsig_vector = [] # This generates hashed bucket values for each of the band of original signature vector similar to above on above cell\n",
        "for x in range(b_50):\n",
        "  list4 = []\n",
        "  for y in range(1):\n",
        "    hashvalue = 0\n",
        "    for z in range(r):\n",
        "      hashvalue = hashvalue + a[z]*matrix_1000_1org[x,z,y]\n",
        "    list4.append(hashvalue%B)\n",
        "  hashed_orgsig_vector.append(list4)"
      ],
      "execution_count": 51,
      "outputs": []
    },
    {
      "cell_type": "code",
      "metadata": {
        "id": "1j71xHQFjqbC"
      },
      "source": [
        "candidate_pairs = {}#To store the candidate pairs formed\n",
        "for a in range(b_50):# for each band of the hashed matrix formed\n",
        "  for b in range(len(docNames)): # for each of the document\n",
        "    if hashed_sig_matrix[a][b] == hashed_orgsig_vector[a][0]: # If the document and original document fall into same bucket then calculate the jaccard similarity\n",
        "      if (docNames[b],docNames_org[0]) not in candidate_pairs: # The below cells generates the jaccard similarity similar to min-hashing jaccard similarity and updates it into the candidate pairs dictionary\n",
        "        count = 0\n",
        "        for c in range(b_50):\n",
        "          if hashed_sig_matrix[c][b] == hashed_orgsig_vector[c][0]:\n",
        "            count = count + 1\n",
        "        count = (count/b_50)\n",
        "        candidate_pairs[(docNames[b],docNames_org[0])] = count"
      ],
      "execution_count": 52,
      "outputs": []
    },
    {
      "cell_type": "code",
      "metadata": {
        "id": "IWoyXB19OThs",
        "outputId": "da14cf5a-1837-48ae-bfe2-4556c4116da7",
        "colab": {
          "base_uri": "https://localhost:8080/",
          "height": 153
        }
      },
      "source": [
        "candidate_pairs#Here it displays the candidate pairs and their jaccard similarity"
      ],
      "execution_count": 53,
      "outputs": [
        {
          "output_type": "execute_result",
          "data": {
            "text/plain": [
              "{('g0pC_taska.txt', 'orig_taska'): 0.02,\n",
              " ('g0pD_taska.txt', 'orig_taska'): 0.02,\n",
              " ('g0pE_taska.txt', 'orig_taska'): 0.2,\n",
              " ('g1pB_taska.txt', 'orig_taska'): 0.02,\n",
              " ('g2pA_taska.txt', 'orig_taska'): 0.02,\n",
              " ('g2pC_taska.txt', 'orig_taska'): 0.04,\n",
              " ('g2pE_taska.txt', 'orig_taska'): 0.02,\n",
              " ('g4pC_taska.txt', 'orig_taska'): 0.06}"
            ]
          },
          "metadata": {
            "tags": []
          },
          "execution_count": 53
        }
      ]
    },
    {
      "cell_type": "markdown",
      "metadata": {
        "id": "t6QJIdRbK_C1"
      },
      "source": [
        "Report all documents (file_names) below that have Jaccard similarity > t=0.2\n",
        "Sort the documents in decreasing order of the Jaccard similarity\n"
      ]
    },
    {
      "cell_type": "code",
      "metadata": {
        "id": "4ofQQNY6v4_0",
        "outputId": "10df2388-5617-4568-f462-d1f6d12656fc",
        "colab": {
          "base_uri": "https://localhost:8080/",
          "height": 34
        }
      },
      "source": [
        "candidate_pairs_greaterthan20percent = {key: candidate_pairs[key] for key in candidate_pairs if candidate_pairs[key] >= t} #Filtering the candidate pairs which are having jaccard similarity greater than t\n",
        "sorted(candidate_pairs_greaterthan20percent.items(), key=lambda x:-x[1])"
      ],
      "execution_count": 54,
      "outputs": [
        {
          "output_type": "execute_result",
          "data": {
            "text/plain": [
              "[(('g0pE_taska.txt', 'orig_taska'), 0.2)]"
            ]
          },
          "metadata": {
            "tags": []
          },
          "execution_count": 54
        }
      ]
    },
    {
      "cell_type": "markdown",
      "metadata": {
        "id": "k_5Vv_QYK_C3"
      },
      "source": [
        "Report the list of false positives and false negatives below\n",
        "\n"
      ]
    },
    {
      "cell_type": "code",
      "metadata": {
        "id": "avQvzqbfJBHt"
      },
      "source": [
        "false_positives = len(candidate_pairs) - len({key: candidate_pairs[key] for key in candidate_pairs if candidate_pairs[key] >= t}) # number of false positives calculated using formula : candidate documents that have Jaccard similarity <= t"
      ],
      "execution_count": 55,
      "outputs": []
    },
    {
      "cell_type": "code",
      "metadata": {
        "id": "W_6eanpxGcsZ",
        "outputId": "fe4e5611-ebef-49f3-f380-6ee2e7948917",
        "colab": {
          "base_uri": "https://localhost:8080/",
          "height": 34
        }
      },
      "source": [
        "false_positives"
      ],
      "execution_count": 56,
      "outputs": [
        {
          "output_type": "execute_result",
          "data": {
            "text/plain": [
              "7"
            ]
          },
          "metadata": {
            "tags": []
          },
          "execution_count": 56
        }
      ]
    },
    {
      "cell_type": "code",
      "metadata": {
        "id": "zq9ZRFBWqPgY"
      },
      "source": [
        "false_negatives = 0 # number of false positives calculated using formula : documents whose Jaccard similarity is actually > t(calculated in the final step of min-hashing), but are not in the candidate set\n",
        "for m in similar_documents_1000:\n",
        "  if m not in candidate_pairs.keys():\n",
        "    false_negatives = false_negatives + 1"
      ],
      "execution_count": 57,
      "outputs": []
    },
    {
      "cell_type": "code",
      "metadata": {
        "id": "d4c0jgyJr63I",
        "outputId": "9f88bea9-0fa0-4cca-e439-76580b38a022",
        "colab": {
          "base_uri": "https://localhost:8080/",
          "height": 34
        }
      },
      "source": [
        "false_negatives"
      ],
      "execution_count": 58,
      "outputs": [
        {
          "output_type": "execute_result",
          "data": {
            "text/plain": [
              "1"
            ]
          },
          "metadata": {
            "tags": []
          },
          "execution_count": 58
        }
      ]
    },
    {
      "cell_type": "markdown",
      "metadata": {
        "id": "0OIp5yHdK_C5"
      },
      "source": [
        "### BONUS : 10 points"
      ]
    },
    {
      "cell_type": "code",
      "metadata": {
        "id": "lIJQ-yKRK_C6"
      },
      "source": [
        "# Experiment with different values of b,r,B, and t\n",
        "# to reduce the number of false positives and false negatives\n",
        "# Report all results in a table in a separate word document"
      ],
      "execution_count": 59,
      "outputs": []
    },
    {
      "cell_type": "code",
      "metadata": {
        "id": "kxJucUI_Su1C"
      },
      "source": [
        "b_values = [2, 4, 5, 8, 10, 20, 25, 40, 50, 100, 125, 200, 250, 500] #factors of 1000\n",
        "r_values = [500, 250, 200, 125, 100, 50, 40, 25, 20, 10, 8, 5, 4, 2] # as the value fo b*r should be equal to L\n",
        "B_values = random.sample(range(len(docNames), 500), 10) # I have choosen 10 random values within the range of number of documents and 500(this is can be changed to any higher number)\n",
        "t_values = [0.1,0.2,0.3,0.4,0.5,0.6,0.7,0.8] # I have choosen some 8 random values for t\n",
        "all_values = [] # To append all the values of false positives and false negatives\n",
        "for e in range(len(b_values)):# for each factor of L\n",
        "  for f in B_values:# for each of the random values taken above\n",
        "    for g in t_values:#for each t values chosen above\n",
        "      b_new = b_values[e]\n",
        "      r_new = r_values[e] \n",
        "      B_new = f\n",
        "      t_new = g\n",
        "      matrix_1000_new= matrix_1000.reshape((b_new,r_new,len(docNames)))#All the below steps are similar to steps mentioned in the above cells to calculate the hashed bucket value for each document in a band and false positives and false negatives\n",
        "      a=random.sample(range(r_new), r_new)\n",
        "      hashed_sig_matrix_new = []\n",
        "      for x in range(b_new):\n",
        "        list1 = []\n",
        "        for y in range(len(docNames)):\n",
        "          hashvalue = 0\n",
        "          for z in range(r_new):\n",
        "            hashvalue = hashvalue + a[z]*matrix_1000_new[x,z,y]\n",
        "          list1.append(hashvalue%B_new)\n",
        "        hashed_sig_matrix_new.append(list1)\n",
        "      matrix_1000_neworg= matrix_1000_org.reshape((b_new,r_new,1))\n",
        "      hashed_orgsig_vector_new = []\n",
        "      for x in range(b_new):\n",
        "        list4 = []\n",
        "        for y in range(1):\n",
        "          hashvalue = 0\n",
        "          for z in range(r_new):\n",
        "            hashvalue = hashvalue + a[z]*matrix_1000_neworg[x,z,y]\n",
        "          list4.append(hashvalue%B_new)\n",
        "        hashed_orgsig_vector_new.append(list4)\n",
        "      candidate_pairs_new = {}\n",
        "      for a in range(b_new):\n",
        "        for b in range(len(docNames)):\n",
        "          if hashed_sig_matrix_new[a][b] == hashed_orgsig_vector_new[a][0]:\n",
        "            if (docNames[b],docNames_org[0]) not in candidate_pairs_new:\n",
        "              count = 0\n",
        "              for c in range(b_new):\n",
        "                if hashed_sig_matrix_new[c][b] == hashed_orgsig_vector_new[c][0]:\n",
        "                  count = count + 1\n",
        "              count = (count/b_new)\n",
        "              candidate_pairs_new[(docNames[b],docNames_org[0])] = count\n",
        "      false_positives_new = len(candidate_pairs_new) - len({key: candidate_pairs_new[key] for key in candidate_pairs_new if candidate_pairs_new[key] >= t_new})\n",
        "      similar_documents_1000_new = {key: similarity_1000[key] for key in similarity_1000 if similarity_1000[key] >= t_new}\n",
        "      false_negatives_new = 0\n",
        "      for m in similar_documents_1000_new:\n",
        "        if m not in candidate_pairs_new.keys():\n",
        "          false_negatives_new = false_negatives_new + 1\n",
        "      all_values.append((false_positives_new, false_negatives_new, b_new, r_new, B_new, t_new))#Append all the values of the false positives, false negatives, b, r, B, t into a list\n",
        "      #print('The number of false positives are ' + str(false_positives_new) + ' and number of false negatives are ' + str(false_negatives_new) + ' for values of b = ' + str(b_new) + ' r = ' + str(r_new) + ' B = ' + str(B_new)+ ' t = ' + str(t_new))"
      ],
      "execution_count": 62,
      "outputs": []
    },
    {
      "cell_type": "code",
      "metadata": {
        "id": "hUBK6XdXfCnR"
      },
      "source": [
        "f = open(\"/content/output.txt\", \"a\") # to send the output to a text file located in the mentioned path. Please feel free to adjust the path accordingly\n",
        "for eachelement in sorted(all_values, key=lambda x: x[0]+x[1]): # Here it sorted the values in the all values list in the ascending order of number of false positives + false negatives and below statement writes to the text file.\n",
        "  print('The number of false positives are ' + str(eachelement[0]) + ' and number of false negatives are ' + str(eachelement[1]) + ' for values of b = ' + str(eachelement[2]) + ' r = ' + str(eachelement[3]) + ' B = ' + str(eachelement[4])+ ' t = ' + str(eachelement[5]),file = f)"
      ],
      "execution_count": 63,
      "outputs": []
    }
  ]
}